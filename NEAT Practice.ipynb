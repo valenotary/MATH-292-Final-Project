{
 "cells": [
  {
   "cell_type": "markdown",
   "metadata": {},
   "source": [
    "<h1> NEAT Implementation Practice </h1>\n",
    "A first-pass attempt at implementing NEAT by translating SethBling's neatevolve.lua script into Python."
   ]
  },
  {
   "cell_type": "code",
   "execution_count": 1,
   "metadata": {},
   "outputs": [],
   "source": [
    "import gym\n",
    "import numpy as np # might not even need this ?\n",
    "import random # pseudo-random"
   ]
  },
  {
   "cell_type": "code",
   "execution_count": 2,
   "metadata": {},
   "outputs": [
    {
     "name": "stdout",
     "output_type": "stream",
     "text": [
      "2\n",
      "4\n"
     ]
    }
   ],
   "source": [
    "# first define the environment and get the both the action and observation spaces \n",
    "envName = 'CartPole-v0' # just need to change this if you wanna try it in environments\n",
    "env = gym.make(envName)\n",
    "\n",
    "# print out the observation and action spaces\n",
    "print(env.action_space.n) # number of valid actions we can take \n",
    "print(env.observation_space.shape[0]) # number of \"sensors\" of the environment that we have (number of inputs)\n",
    "\n",
    "# NOTE: Need to keep track of the valid values these can take \n",
    "# NOTE: Also need to have inputs + 1, with the 1 being the bias (stc?)\n",
    "outputs = env.action_space.n\n",
    "inputs = env.observation_space.shape[0] + 1\n",
    "\n"
   ]
  },
  {
   "cell_type": "code",
   "execution_count": 34,
   "metadata": {},
   "outputs": [],
   "source": [
    "# hyperparameters, according to section 4.1 Parameter Settings\n",
    "deltaThreshold = 3.0\n",
    "\n",
    "c1 = c2 = 1.0\n",
    "c3 = 0.4\n",
    "\n",
    "numUntilStagnant = 15\n",
    "genomeMutationChance = 0.8\n",
    "connectionUniformPerturb = 0.9\n",
    "connectionRandomValue = 1 - connectionUniformPerturb\n",
    "disableGeneChance = 0.75\n",
    "mutateNoCrossoverChance = 0.25\n",
    "interspeciesMatingRate = 0.001\n",
    "smallPopulationNewNodeChance = 0.03\n",
    "smallPopulationNewConnectionChance = 0.05\n",
    "largePopulationNewConnectionChance = 0.3"
   ]
  },
  {
   "cell_type": "code",
   "execution_count": 33,
   "metadata": {},
   "outputs": [],
   "source": [
    "def sigmoid(x):\n",
    "    return 1/(1+np.exp(-x))\n",
    "\n",
    "def steepsigmoid(x):\n",
    "    return 1/(1+np.exp(-4.9*x))"
   ]
  },
  {
   "cell_type": "code",
   "execution_count": 20,
   "metadata": {
    "code_folding": []
   },
   "outputs": [],
   "source": [
    "class Genome:\n",
    "    # initialize class variables \n",
    "    def __init__(self):\n",
    "        self.globalInnovation = 1\n",
    "        self.nodeGenes = {}\n",
    "        self.connectGenes = {}\n",
    "        self.fitness = 0\n",
    "        self.species = 0\n",
    "        \n",
    "    def clearGenome(self):\n",
    "        self.globalInnovation = 1\n",
    "        self.nodeGenes = {}\n",
    "        self.connectGenes = {}\n",
    "        \n",
    "    def initRandomGenome(self):\n",
    "        for i in range(inputs):\n",
    "            self.insertNode('input')\n",
    "        for i in range(outputs):\n",
    "            self.insertNode('output')\n",
    "        \n",
    "        # brute force connect each new input node to each output node \n",
    "        for node in self.nodeGenes:\n",
    "            if self.nodeGenes[node][0] == 'input':\n",
    "                for otherNode in self.nodeGenes:\n",
    "                    if self.nodeGenes[otherNode][0] == 'output':\n",
    "                        self.insertConnection(node, otherNode, random.random())\n",
    "            \n",
    "        \n",
    "    def initGenome(self, nodeDict, connectDict):\n",
    "        self.nodeGenes = nodeDict\n",
    "        self.connectGens = connectDict\n",
    "        \n",
    "             \n",
    "    def insertNode(self, nodeType='input', value = '0.0'):\n",
    "        self.nodeGenes[len(self.nodeGenes)+1]=[nodeType, value]\n",
    "        \n",
    "    def insertConnection(self, outNode, inNode, weight = '0.5', isExpressed = True):\n",
    "        if (outNode in self.nodeGenes) and (inNode in self.nodeGenes): # check if the nodes even exist \n",
    "            if ((outNode, inNode) not in self.connectGenes): # check that the connection doesnt already exist \n",
    "                self.connectGenes[(outNode, inNode)] = [self.globalInnovation, weight, isExpressed]\n",
    "                self.globalInnovation += 1\n",
    "            else: \n",
    "                print('Connection already exists. Did not insert')\n",
    "        else:\n",
    "            print('Could not find node(s). Did not insert.')\n",
    "            \n",
    "    def checkConnection(self, outNode, inNode):\n",
    "        if (outNode in self.nodeGenes) and (inNode in self.nodeGenes):\n",
    "            if (outNode, inNode) in self.connectGenes:\n",
    "                return self.connectGenes[(outNode, inNode)][2]\n",
    "            else:\n",
    "                print('Could not find the connection')\n",
    "        else:\n",
    "            print('Could not find node(s). Did not disable.')\n",
    "            \n",
    "    def disableConnection(self, outNode, inNode):\n",
    "        if (outNode in self.nodeGenes) and (inNode in self.nodeGenes):\n",
    "            if (outNode, inNode) in self.connectGenes:\n",
    "                self.connectGenes[(outNode, inNode)][2] = False\n",
    "            else:\n",
    "                print('Could not find connection to disable. Did not disable.')\n",
    "        else: \n",
    "            print('Could not find node(s). Did not disable.')\n",
    "    \n",
    "    def mutateAddConnection(self, outNode, inNode):\n",
    "        if (outNode in self.nodeGenes) and (inNode in self.nodeGenes):\n",
    "            if (outNode, inNode) not in self.connectGenes:\n",
    "                self.connectGenes[(outNode, inNode)] = [self.globalInnovation, random.random(), True]\n",
    "                self.globalInnovation += 1\n",
    "            else:\n",
    "                print('Error! nodes already connected')\n",
    "        else:\n",
    "            print('Could not find node(s). Did not mutate')\n",
    "            \n",
    "    def mutateAddNode(self, outNode, inNode):\n",
    "        if (outNode in self.nodeGenes) and (inNode in self.nodeGenes):\n",
    "            if (outNode, inNode) in self.connectGenes:\n",
    "                self.insertNode('hidden', '0.0')\n",
    "                # disable old connection'\n",
    "                self.disableConnection(outNode, inNode)\n",
    "                self.insertConnection(outNode, len(self.nodeGenes), 1.0, True)\n",
    "                # get original weight \n",
    "                originalWeight = self.connectGenes[(outNode, inNode)][1]\n",
    "                self.insertConnection(len(self.nodeGenes), inNode, originalWeight, True)\n",
    "            else:\n",
    "                print('Error! No connection found.')\n",
    "        else:\n",
    "            print('Could not find node(s). Did not mutate.')\n",
    "            \n",
    "    def evaluateAction(self, observation):\n",
    "        # TODO: IMPLEMENT THIS\n",
    "        return env.action_space.sample()\n",
    "    \n",
    "    def printNodeGenes(self):\n",
    "        print(self.nodeGenes)\n",
    "        \n",
    "    def printConnectGenes(self):\n",
    "        print(self.connectGenes)\n",
    "    \n",
    "    def printActiveConnectGenes(self):\n",
    "        for connection in self.connectGenes:\n",
    "            if (self.connectGenes[connection][2]):\n",
    "                print(connection, self.connectGenes[connection][1])\n",
    "        \n",
    "    def printGlobalInnovation(self):\n",
    "        print(self.globalInnovation)"
   ]
  },
  {
   "cell_type": "code",
   "execution_count": 9,
   "metadata": {},
   "outputs": [],
   "source": [
    "genome=Genome()\n",
    "genome.initRandomGenome()\n"
   ]
  },
  {
   "cell_type": "code",
   "execution_count": 10,
   "metadata": {},
   "outputs": [
    {
     "name": "stdout",
     "output_type": "stream",
     "text": [
      "{1: ['input', '0.0'], 2: ['input', '0.0'], 3: ['input', '0.0'], 4: ['input', '0.0'], 5: ['input', '0.0'], 6: ['output', '0.0'], 7: ['output', '0.0']}\n",
      "(1, 6) 0.295853110322872\n",
      "(1, 7) 0.43997264686223114\n",
      "(2, 6) 0.16973338641236457\n",
      "(2, 7) 0.18630857515300991\n",
      "(3, 6) 0.19065053698494494\n",
      "(3, 7) 0.21567729477697573\n",
      "(4, 6) 0.6461327149224014\n",
      "(4, 7) 0.5641040927550108\n",
      "(5, 6) 0.8065439132871849\n",
      "(5, 7) 0.3081420763091025\n"
     ]
    }
   ],
   "source": [
    "genome.printNodeGenes()\n",
    "genome.printActiveConnectGenes()"
   ]
  },
  {
   "cell_type": "code",
   "execution_count": 50,
   "metadata": {},
   "outputs": [
    {
     "name": "stdout",
     "output_type": "stream",
     "text": [
      "{(1, 6): [1, 0.6142642317717515, True], (1, 7): [2, 0.17704433725475432, True], (2, 6): [3, 0.30488626931029694, True], (2, 7): [4, 0.5994561800373995, True], (3, 6): [5, 0.03665240710510942, True], (3, 7): [6, 0.5966580856592291, True], (4, 6): [7, 0.700207405160988, True], (4, 7): [8, 0.8007014027742866, True], (5, 6): [9, 0.12721716503246128, True], (5, 7): [10, 0.008031849017742343, True], (1, 2): [11, 0.724807581878696, False], (1, 8): [12, 1.0, True], (8, 2): [13, 0.724807581878696, True]}\n",
      "{(1, 6): [1, 0.5805705222194604, True], (1, 7): [2, 0.9133221098163722, True], (2, 6): [3, 0.3247538130162717, True], (2, 7): [4, 0.03125241680228352, True], (3, 6): [5, 0.02504090812063242, True], (3, 7): [6, 0.05581903549830636, True], (4, 6): [7, 0.30996053762558984, True], (4, 7): [8, 0.9135376025331361, True], (5, 6): [9, 0.6074654916033674, True], (5, 7): [10, 0.11202676267174194, True]}\n"
     ]
    },
    {
     "data": {
      "text/plain": [
       "0.5814512473672437"
      ]
     },
     "execution_count": 50,
     "metadata": {},
     "output_type": "execute_result"
    }
   ],
   "source": [
    "genome1 = Genome()\n",
    "genome1.initRandomGenome()\n",
    "genome1.mutateAddConnection(1, 2)\n",
    "genome1.mutateAddNode(1, 2)\n",
    "\n",
    "genome1.printConnectGenes()\n",
    "\n",
    "genome2 = Genome()\n",
    "genome2.initRandomGenome()\n",
    "\n",
    "genome2.printConnectGenes()\n",
    "\n",
    "# TODO: Verify this works properly \n",
    "def delta(genome1,genome2, c1=0.1, c2=0.1, c3=0.1):\n",
    "    connectionMismatch = []\n",
    "    for connection1 in genome1.connectGenes:\n",
    "        if (connection1 not in genome2.connectGenes):\n",
    "            connectionMismatch.append(connection1)\n",
    "    for connection2 in genome2.connectGenes:\n",
    "        if (connection2 not in genome1.connectGenes):\n",
    "            connectionMismatch.append(connection2)\n",
    "    diffsum = 0\n",
    "    num = 0\n",
    "    for connection1 in genome1.connectGenes:\n",
    "        if (connection1 not in connectionMismatch):\n",
    "            diffsum += abs(genome1.connectGenes[connection1][1] - genome2.connectGenes[connection1][1])\n",
    "            num += 1\n",
    "    averageWeightDifference = diffsum/num\n",
    "    #print(averageWeightDifference)\n",
    "    N = 0\n",
    "    if len(genome1.connectGenes) >= len(genome2.connectGenes):\n",
    "        N = len(genome1.connectGenes)\n",
    "    else:\n",
    "        N = len(genome2.connectGenes)\n",
    "    #print(((len(connectionMismatch)*(c1 + c2))/N) + (c3*averageWeightDifference))\n",
    "    return ((len(connectionMismatch)*(c1 + c2))/N) + (c3*averageWeightDifference)\n",
    "    \n",
    "delta(genome1=genome1,genome2=genome2, c1=c1, c2=c2, c3=c3)"
   ]
  },
  {
   "cell_type": "code",
   "execution_count": 11,
   "metadata": {},
   "outputs": [],
   "source": [
    "# connection weights mutate as in any NE system, with each connection either perturbed or not at each generation "
   ]
  },
  {
   "cell_type": "code",
   "execution_count": 54,
   "metadata": {},
   "outputs": [
    {
     "name": "stdout",
     "output_type": "stream",
     "text": [
      "0\n",
      "Number of different species in generation 0: 1\n",
      "0\n",
      "Number of different species in generation 1: 1\n",
      "0\n",
      "Number of different species in generation 2: 1\n",
      "0\n",
      "Number of different species in generation 3: 1\n",
      "0\n",
      "Number of different species in generation 4: 1\n",
      "0\n",
      "Number of different species in generation 5: 1\n",
      "0\n",
      "Number of different species in generation 6: 1\n",
      "0\n",
      "Number of different species in generation 7: 1\n",
      "0\n",
      "Number of different species in generation 8: 1\n",
      "0\n",
      "Number of different species in generation 9: 1\n",
      "0\n",
      "Number of different species in generation 10: 1\n",
      "0\n",
      "Number of different species in generation 11: 1\n",
      "0\n",
      "Number of different species in generation 12: 1\n",
      "0\n",
      "Number of different species in generation 13: 1\n",
      "0\n",
      "Number of different species in generation 14: 1\n",
      "0\n",
      "Number of different species in generation 15: 1\n",
      "0\n",
      "Number of different species in generation 16: 1\n",
      "0\n",
      "Number of different species in generation 17: 1\n",
      "0\n",
      "Number of different species in generation 18: 1\n",
      "0\n",
      "Number of different species in generation 19: 1\n"
     ]
    }
   ],
   "source": [
    "max_generations = 20\n",
    "population = 20\n",
    "\n",
    "for generation in range(max_generations):\n",
    "    species = []\n",
    "    pop= []\n",
    "    for genome in range(population):\n",
    "        g = Genome()\n",
    "        g.initRandomGenome()\n",
    "        \n",
    "        if (not species):\n",
    "            species.append(g)\n",
    "        else:\n",
    "            for og in species:\n",
    "                if (delta(g, og, c1, c2, c3) > deltaThreshold):\n",
    "                    species.append(g)\n",
    "                else:\n",
    "                    g.species = species.index(og)\n",
    "                    pop.append(g)\n",
    "                    \n",
    "                    \n",
    "    print(\"Number of different species in generation {}: {}\".format(generation, len(species)))\n"
   ]
  },
  {
   "cell_type": "code",
   "execution_count": 15,
   "metadata": {},
   "outputs": [
    {
     "name": "stdout",
     "output_type": "stream",
     "text": [
      "Episode finished after 46 timesteps\n",
      "Genome fitness: 46.0\n",
      "Episode finished after 29 timesteps\n",
      "Genome fitness: 29.0\n",
      "Episode finished after 25 timesteps\n",
      "Genome fitness: 25.0\n",
      "Episode finished after 11 timesteps\n",
      "Genome fitness: 11.0\n",
      "Episode finished after 30 timesteps\n",
      "Genome fitness: 30.0\n",
      "Episode finished after 14 timesteps\n",
      "Genome fitness: 14.0\n",
      "Episode finished after 31 timesteps\n",
      "Genome fitness: 31.0\n",
      "Episode finished after 40 timesteps\n",
      "Genome fitness: 40.0\n",
      "Episode finished after 14 timesteps\n",
      "Genome fitness: 14.0\n",
      "Episode finished after 44 timesteps\n",
      "Genome fitness: 44.0\n",
      "Episode finished after 39 timesteps\n",
      "Genome fitness: 39.0\n",
      "Episode finished after 23 timesteps\n",
      "Genome fitness: 23.0\n",
      "Episode finished after 47 timesteps\n",
      "Genome fitness: 47.0\n",
      "Episode finished after 18 timesteps\n",
      "Genome fitness: 18.0\n",
      "Episode finished after 19 timesteps\n",
      "Genome fitness: 19.0\n",
      "Episode finished after 14 timesteps\n",
      "Genome fitness: 14.0\n",
      "Episode finished after 21 timesteps\n",
      "Genome fitness: 21.0\n",
      "Episode finished after 17 timesteps\n",
      "Genome fitness: 17.0\n",
      "Episode finished after 36 timesteps\n",
      "Genome fitness: 36.0\n",
      "Episode finished after 10 timesteps\n",
      "Genome fitness: 10.0\n"
     ]
    }
   ],
   "source": [
    "# testing it to run in gym \n",
    "\n",
    "for tries in range(20):\n",
    "    observation = env.reset()\n",
    "    genome=Genome()\n",
    "    genome.initRandomGenome()\n",
    "    t = 0\n",
    "    while(True):\n",
    "        env.render()\n",
    "        action = genome.evaluateAction(observation)\n",
    "        observation, reward, done, info = env.step(action)\n",
    "        genome.fitness += reward\n",
    "        if done:\n",
    "            print(\"Episode finished after {} timesteps\".format(t+1))\n",
    "            print(\"Genome fitness: {}\".format(genome.fitness))\n",
    "            break\n",
    "        t += 1\n",
    "            \n",
    "env.close()\n",
    "\n",
    "# for i_episode in range(20):\n",
    "#     observation = env.reset()\n",
    "#     for t in range(100):\n",
    "#         env.render()\n",
    "#         print(observation)\n",
    "#         action = env.action_space.sample()\n",
    "#         observation, reward, done, info = env.step(action)\n",
    "#         if done:\n",
    "#             print(\"Episode finished after {} timesteps\".format(t+1))\n",
    "#             break\n",
    "# env.close()"
   ]
  },
  {
   "cell_type": "code",
   "execution_count": null,
   "metadata": {},
   "outputs": [],
   "source": []
  }
 ],
 "metadata": {
  "kernelspec": {
   "display_name": "Python 3",
   "language": "python",
   "name": "python3"
  },
  "language_info": {
   "codemirror_mode": {
    "name": "ipython",
    "version": 3
   },
   "file_extension": ".py",
   "mimetype": "text/x-python",
   "name": "python",
   "nbconvert_exporter": "python",
   "pygments_lexer": "ipython3",
   "version": "3.7.6"
  }
 },
 "nbformat": 4,
 "nbformat_minor": 4
}
