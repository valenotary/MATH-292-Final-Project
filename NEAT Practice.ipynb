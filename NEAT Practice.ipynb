{
 "cells": [
  {
   "cell_type": "markdown",
   "metadata": {},
   "source": [
    "<h1> NEAT Implementation Practice </h1>\n",
    "A first-pass attempt at implementing NEAT by translating SethBling's neatevolve.lua script into Python."
   ]
  },
  {
   "cell_type": "code",
   "execution_count": 2,
   "metadata": {},
   "outputs": [],
   "source": [
    "import gym\n",
    "import numpy as np"
   ]
  },
  {
   "cell_type": "code",
   "execution_count": 3,
   "metadata": {},
   "outputs": [
    {
     "name": "stdout",
     "output_type": "stream",
     "text": [
      "2\n",
      "4\n"
     ]
    }
   ],
   "source": [
    "# first define the environment and get the both the action and observation spaces \n",
    "envName = 'CartPole-v0' # just need to change this if you wanna try it in environments\n",
    "env = gym.make(envName)\n",
    "\n",
    "# print out the observation and action spaces\n",
    "print(env.action_space.n) # number of valid actions we can take \n",
    "print(env.observation_space.shape[0]) # number of \"sensors\" of the environment that we have (number of inputs)\n",
    "\n",
    "# NOTE: Need to keep track of the valid values these can take \n",
    "# NOTE: Also need to have inputs + 1, with the 1 being the bias (stc?)\n",
    "inputs = env.action_space.n\n",
    "outputs = env.observation_space.shape[0] + 1\n",
    "\n"
   ]
  },
  {
   "cell_type": "code",
   "execution_count": 4,
   "metadata": {},
   "outputs": [],
   "source": [
    "# some NEAT hyperparameters \n",
    "# NOTE: Go back to this and change accordingly (remove what you dont need)\n",
    "\n",
    "population = 300\n",
    "deltaDisjoint = 2.0\n",
    "deltaWeights = 0.4\n",
    "deltaThreshold = 1.0\n",
    "\n",
    "staleSpecies = 15\n",
    "\n",
    "mutateConnectionsChance = 0.25\n",
    "perturbChance = 0.90\n",
    "crossOverChance = 0.75\n",
    "linkMutationChance = 2.0\n",
    "nodeMutationChance = 0.5\n",
    "biasMutationChance = 0.4\n",
    "stepSize = 0.1\n",
    "disableMutationChance = 0.4\n",
    "enableMutationChance = 0.2\n",
    "\n",
    "timeoutConstant = 20 \n",
    "\n",
    "maxNodes = 1000000"
   ]
  },
  {
   "cell_type": "code",
   "execution_count": null,
   "metadata": {},
   "outputs": [],
   "source": []
  }
 ],
 "metadata": {
  "kernelspec": {
   "display_name": "Python 3",
   "language": "python",
   "name": "python3"
  },
  "language_info": {
   "codemirror_mode": {
    "name": "ipython",
    "version": 3
   },
   "file_extension": ".py",
   "mimetype": "text/x-python",
   "name": "python",
   "nbconvert_exporter": "python",
   "pygments_lexer": "ipython3",
   "version": "3.7.6"
  }
 },
 "nbformat": 4,
 "nbformat_minor": 4
}
