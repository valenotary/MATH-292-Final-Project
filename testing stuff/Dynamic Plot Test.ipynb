{
 "cells": [
  {
   "cell_type": "code",
   "execution_count": 21,
   "metadata": {},
   "outputs": [],
   "source": [
    "%matplotlib qt"
   ]
  },
  {
   "cell_type": "code",
   "execution_count": 22,
   "metadata": {},
   "outputs": [],
   "source": [
    "import gym\n",
    "import numpy as np\n",
    "import PySimpleGUI as sg\n",
    "import matplotlib.pyplot as plt"
   ]
  },
  {
   "cell_type": "code",
   "execution_count": 23,
   "metadata": {},
   "outputs": [
    {
     "data": {
      "text/plain": [
       "Text(0.5, 1.0, '<TimeLimit<CartPoleEnv<CartPole-v1>>>')"
      ]
     },
     "execution_count": 23,
     "metadata": {},
     "output_type": "execute_result"
    }
   ],
   "source": [
    "hl, = plt.plot([], [])\n",
    "env = gym.make('CartPole-v1')\n",
    "plt.title(env)"
   ]
  },
  {
   "cell_type": "code",
   "execution_count": 24,
   "metadata": {},
   "outputs": [],
   "source": [
    "max_generations = 20\n",
    "for i in range(max_generations):\n",
    "    observation = env.reset()\n",
    "    fitness=0\n",
    "    while(True):\n",
    "        env.render()\n",
    "        action = env.action_space.sample()\n",
    "        observation, reward, done, info = env.step(action)\n",
    "        fitness += reward\n",
    "        if done:\n",
    "            hl.set_xdata(np.append(hl.get_xdata(), i))\n",
    "            hl.set_ydata(np.append(hl.get_ydata(), fitness))\n",
    "            plt.plot(hl.get_xdata(), hl.get_ydata())\n",
    "            plt.draw()\n",
    "            break\n",
    "env.close()"
   ]
  },
  {
   "cell_type": "code",
   "execution_count": 67,
   "metadata": {},
   "outputs": [],
   "source": [
    "merp = {1: {'test': 0}, 2: {'test': -1}, 3: {'test':-5}, 4: {'test': 6}}"
   ]
  },
  {
   "cell_type": "code",
   "execution_count": 68,
   "metadata": {},
   "outputs": [
    {
     "name": "stdout",
     "output_type": "stream",
     "text": [
      "{'test': 6}\n",
      "{'test': 0}\n",
      "{2: {'test': -1}, 3: {'test': -5}}\n"
     ]
    }
   ],
   "source": [
    "\n",
    "for i in range(2):\n",
    "    testStuff = merp.pop(sorted(merp.items(), key=lambda x:x[1]['test']).pop()[0])\n",
    "    print(testStuff)\n",
    "#     print(merp.pop(sorted(merp.items(), key=lambda x: x[1]['test']).pop()[0]))\n",
    "    \n",
    "print(merp)"
   ]
  },
  {
   "cell_type": "code",
   "execution_count": 9,
   "metadata": {},
   "outputs": [
    {
     "name": "stdout",
     "output_type": "stream",
     "text": [
      "[(1, {'test': 0}), (2, {'test': -1}), (3, {'test': -5})]\n"
     ]
    }
   ],
   "source": [
    "print(testList)"
   ]
  },
  {
   "cell_type": "code",
   "execution_count": null,
   "metadata": {},
   "outputs": [],
   "source": []
  }
 ],
 "metadata": {
  "kernelspec": {
   "display_name": "Python 3",
   "language": "python",
   "name": "python3"
  },
  "language_info": {
   "codemirror_mode": {
    "name": "ipython",
    "version": 3
   },
   "file_extension": ".py",
   "mimetype": "text/x-python",
   "name": "python",
   "nbconvert_exporter": "python",
   "pygments_lexer": "ipython3",
   "version": "3.7.6"
  }
 },
 "nbformat": 4,
 "nbformat_minor": 4
}
